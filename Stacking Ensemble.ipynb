{
 "cells": [
  {
   "cell_type": "code",
   "execution_count": null,
   "metadata": {
    "collapsed": false,
    "deletable": true,
    "editable": true
   },
   "outputs": [],
   "source": [
    "import numpy as np\n",
    "import pandas as pd\n",
    "import xgboost as xgb\n",
    "import lightgbm as lgb\n",
    "from sklearn.model_selection import StratifiedKFold\n",
    "from sklearn.linear_model import LogisticRegression\n",
    "%run \"Data Prep.ipynb\""
   ]
  },
  {
   "cell_type": "code",
   "execution_count": null,
   "metadata": {
    "collapsed": false,
    "deletable": true,
    "editable": true
   },
   "outputs": [],
   "source": [
    "#tuned param for xgboost\n",
    "params = {'eta': 0.02, 'max_depth': 4, 'subsample': 0.9, 'colsample_bytree': 0.9,\n",
    "         'objective': 'binary:logistic', 'eval_metric': 'auc', 'silent': True, 'seed': 42}"
   ]
  },
  {
   "cell_type": "code",
   "execution_count": null,
   "metadata": {
    "collapsed": false,
    "deletable": true,
    "editable": true
   },
   "outputs": [],
   "source": [
    "#Save predictions from first level models to train and predict on stacking ensemble\n",
    "stack_train = np.zeros((df_train.shape[0], 2))\n",
    "stack_test = np.zeros((df_test.shape[0], 2))\n",
    "stack_testj = np.zeros((df_test.shape[0], 5))\n",
    "\n",
    "#Convert test set to xgb format\n",
    "d_test = xgb.DMatrix(df_test)"
   ]
  },
  {
   "cell_type": "code",
   "execution_count": null,
   "metadata": {
    "collapsed": false,
    "deletable": true,
    "editable": true
   },
   "outputs": [],
   "source": [
    "#Split folds\n",
    "kfold = 5\n",
    "skf = StratifiedKFold(n_splits=kfold, shuffle = True, random_state=42)\n",
    "\n",
    "\n",
    "for i, (train_index, test_index) in enumerate(skf.split(df_train, dfy_train)):\n",
    "    print('[Fold %d/%d]' % (i + 1, kfold))\n",
    "    X_train, X_valid = df_train.iloc[train_index], df_train.iloc[test_index]\n",
    "    Y_train, Y_valid = dfy_train.iloc[train_index], dfy_train.iloc[test_index]\n",
    "    \n",
    "    # Convert our data into XGBoost format\n",
    "    d_train = xgb.DMatrix(X_train, Y_train)\n",
    "    d_valid = xgb.DMatrix(X_valid, Y_valid)\n",
    "    \n",
    "    watchlist = [(d_train, 'train'), (d_valid, 'valid')]\n",
    "    \n",
    "    #Train xgboost model\n",
    "    mdl = xgb.train(params, d_train, 5000, watchlist, early_stopping_rounds=200,\n",
    "                    feval=gini_xgb, maximize=True, verbose_eval=100)\n",
    "    \n",
    "    #Save predictions for training the stacking ensemble\n",
    "    p_valid =mdl.predict(xgb.DMatrix(X_valid))\n",
    "    stack_train[test_index, 0] = p_valid\n",
    "    \n",
    "    print('[Fold %d/%d Prediciton:]' % (i + 1, kfold))\n",
    "    \n",
    "    # Predict on our test data\n",
    "    stack_testj[:, i] = mdl.predict(d_test)\n",
    "    \n",
    "#Get avg prediction of the folds\n",
    "stack_test[:, 0] = stack_testj.mean(axis = 1)"
   ]
  },
  {
   "cell_type": "code",
   "execution_count": null,
   "metadata": {
    "collapsed": true,
    "deletable": true,
    "editable": true
   },
   "outputs": [],
   "source": [
    "params2 = {'learning_rate': 0.02, 'max_depth': 4, 'boosting': 'gbdt', \n",
    "          'objective': 'binary', 'metric': 'auc', 'is_training_metric': False, 'seed': 42}"
   ]
  },
  {
   "cell_type": "code",
   "execution_count": null,
   "metadata": {
    "collapsed": false,
    "deletable": true,
    "editable": true
   },
   "outputs": [],
   "source": [
    "#Split folds\n",
    "kfolds = 5\n",
    "skf = StratifiedKFold(n_splits=kfold, shuffle = True, random_state=42)\n",
    "\n",
    "for i, (train_index, test_index) in enumerate(skf.split(df_train, dfy_train)):\n",
    "    print('[Fold %d/%d]' % (i + 1, kfold))\n",
    "    X_train, X_valid = df_train.iloc[train_index], df_train.iloc[test_index]\n",
    "    Y_train, Y_valid = dfy_train.iloc[train_index], dfy_train.iloc[test_index]\n",
    "    \n",
    "    #Convert to lgb format\n",
    "    l_train = lgb.Dataset(X_train, label=Y_train)\n",
    "    l_valid = lgb.Dataset(X_valid, label=Y_valid)\n",
    "    \n",
    "    #Train model\n",
    "    mdl2 = lgb.train(params2, l_train, 2000, l_valid, verbose_eval=100, \n",
    "                  feval=gini_lgb, early_stopping_rounds=200)\n",
    "    \n",
    "    #Save predictions for training the stacking ensemble\n",
    "    stack_train[test_index, 1] = mdl2.predict(X_valid, num_iteration=mdl2.best_iteration)\n",
    "    \n",
    "    #Predict on test set\n",
    "    stack_testj[:, i] = mdl2.predict(df_test, num_iteration=mdl2.best_iteration)\n",
    "\n",
    "#Get avg predictions\n",
    "stack_test[:, 1] = stack_testj.mean(axis = 1)"
   ]
  },
  {
   "cell_type": "code",
   "execution_count": null,
   "metadata": {
    "collapsed": false,
    "deletable": true,
    "editable": true
   },
   "outputs": [],
   "source": [
    "#Stacking Model (level 2)\n",
    "from sklearn.linear_model import LogisticRegression\n",
    "clf = LogisticRegression()\n",
    "clf.fit(stack_train, dfy_train)"
   ]
  },
  {
   "cell_type": "code",
   "execution_count": null,
   "metadata": {
    "collapsed": true,
    "deletable": true,
    "editable": true
   },
   "outputs": [],
   "source": [
    "p_test = clf.predict_proba(stack_test)[:,1]"
   ]
  },
  {
   "cell_type": "code",
   "execution_count": null,
   "metadata": {
    "collapsed": true,
    "deletable": true,
    "editable": true
   },
   "outputs": [],
   "source": [
    "sub = pd.DataFrame()\n",
    "sub['id'] = id_test\n",
    "sub['target'] = p_test\n",
    "sub.to_csv('stack1.csv', index=False)"
   ]
  }
 ],
 "metadata": {
  "kernelspec": {
   "display_name": "Python 3",
   "language": "python",
   "name": "python3"
  },
  "language_info": {
   "codemirror_mode": {
    "name": "ipython",
    "version": 3
   },
   "file_extension": ".py",
   "mimetype": "text/x-python",
   "name": "python",
   "nbconvert_exporter": "python",
   "pygments_lexer": "ipython3",
   "version": "3.5.3"
  }
 },
 "nbformat": 4,
 "nbformat_minor": 2
}
