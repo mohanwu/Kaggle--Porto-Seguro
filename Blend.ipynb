{
 "cells": [
  {
   "cell_type": "code",
   "execution_count": null,
   "metadata": {
    "collapsed": false,
    "deletable": true,
    "editable": true
   },
   "outputs": [],
   "source": [
    "import numpy as np\n",
    "import pandas as pd\n",
    "from sklearn.model_selection import train_test_split\n",
    "import xgboost as xgb\n",
    "import lightgbm as lgb\n",
    "%run \"Data Prep.ipynb\""
   ]
  },
  {
   "cell_type": "code",
   "execution_count": null,
   "metadata": {
    "collapsed": false,
    "deletable": true,
    "editable": true
   },
   "outputs": [],
   "source": [
    "#Split training set to make validation set\n",
    "x_train, x_valid, y_train, y_valid = train_test_split(df_train, dfy_train, test_size=0.25, random_state=99)\n",
    "\n",
    "print('Train samples: {} Validation samples: {}'.format(len(x_train), len(x_valid)))\n",
    "d_train = xgb.DMatrix(x_train, y_train)\n",
    "d_valid = xgb.DMatrix(x_valid, y_valid)\n",
    "d_test = xgb.DMatrix(df_test)"
   ]
  },
  {
   "cell_type": "code",
   "execution_count": null,
   "metadata": {
    "collapsed": true,
    "deletable": true,
    "editable": true
   },
   "outputs": [],
   "source": [
    "#Tuned params for xgboost using gridsearch\n",
    "params = {'eta': 0.02, 'max_depth': 4, 'subsample': 0.9, 'colsample_bytree': 0.9,\n",
    "         'objective': 'binary:logistic', 'eval_metric': 'auc', 'silent': True, 'seed': 42}\n",
    "watchlist = [(d_train, 'train'), (d_valid, 'valid')]"
   ]
  },
  {
   "cell_type": "code",
   "execution_count": null,
   "metadata": {
    "collapsed": false,
    "deletable": true,
    "editable": true
   },
   "outputs": [],
   "source": [
    "#Train the xgboost model \n",
    "mdl = xgb.train(params, d_train, 5000, watchlist, early_stopping_rounds=200, feval=gini_xgb, maximize=True, verbose_eval=50)"
   ]
  },
  {
   "cell_type": "code",
   "execution_count": null,
   "metadata": {
    "collapsed": false,
    "deletable": true,
    "editable": true
   },
   "outputs": [],
   "source": [
    "#Prediction\n",
    "p_test = mdl.predict(d_test)\n",
    "\n",
    "#Submission file\n",
    "sub = pd.DataFrame()\n",
    "sub['id'] = id_test\n",
    "sub['target'] = p_test\n",
    "sub.to_csv('xgb1.csv', index=False, float_format='%.5f')"
   ]
  },
  {
   "cell_type": "code",
   "execution_count": null,
   "metadata": {
    "collapsed": true,
    "deletable": true,
    "editable": true
   },
   "outputs": [],
   "source": [
    "#Tuned params for lgb\n",
    "params2 = {'learning_rate': 0.02, 'max_depth': 4, 'boosting': 'gbdt', \n",
    "          'objective': 'binary', 'metric': 'auc', 'is_training_metric': False, 'seed': 42}"
   ]
  },
  {
   "cell_type": "code",
   "execution_count": null,
   "metadata": {
    "collapsed": false,
    "deletable": true,
    "editable": true
   },
   "outputs": [],
   "source": [
    "l_train = lgb.Dataset(x_train, label=y_train)\n",
    "l_valid = lgb.Dataset(x_valid, label=y_valid)\n",
    "mdl2 = lgb.train(params2, l_train, 2000, l_valid, verbose_eval=100, \n",
    "              feval=gini_lgb, early_stopping_rounds=200)\n"
   ]
  },
  {
   "cell_type": "code",
   "execution_count": null,
   "metadata": {
    "collapsed": false,
    "deletable": true,
    "editable": true
   },
   "outputs": [],
   "source": [
    "#Prediction\n",
    "p_test2 = mdl2.predict(df_test, num_iteration = mdl2.best_iteration)\n",
    "\n",
    "#Submission file\n",
    "sub = pd.DataFrame()\n",
    "sub['id'] = id_test\n",
    "sub['target'] = p_test2\n",
    "sub.to_csv('lgb1.csv', index=False, float_format='%.5f')"
   ]
  },
  {
   "cell_type": "code",
   "execution_count": null,
   "metadata": {
    "collapsed": true,
    "deletable": true,
    "editable": true
   },
   "outputs": [],
   "source": [
    "#Blend predictions\n",
    "d1 = pd.read_csv('xgb1.csv')\n",
    "d2 = pd.read_csv('lgb1.csv')\n",
    "\n",
    "d3 = d1\n",
    "d3['target'] = d1['target']*0.5 + d2['target']\n",
    "sub.to_csv('blend1.csv', index=False, float_format='%.5f')"
   ]
  }
 ],
 "metadata": {
  "kernelspec": {
   "display_name": "Python 3",
   "language": "python",
   "name": "python3"
  },
  "language_info": {
   "codemirror_mode": {
    "name": "ipython",
    "version": 3
   },
   "file_extension": ".py",
   "mimetype": "text/x-python",
   "name": "python",
   "nbconvert_exporter": "python",
   "pygments_lexer": "ipython3",
   "version": "3.5.3"
  }
 },
 "nbformat": 4,
 "nbformat_minor": 2
}
