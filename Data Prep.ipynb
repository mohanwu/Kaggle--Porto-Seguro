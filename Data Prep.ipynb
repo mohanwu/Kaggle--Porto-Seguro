{
 "cells": [
  {
   "cell_type": "code",
   "execution_count": null,
   "metadata": {
    "collapsed": false,
    "deletable": true,
    "editable": true
   },
   "outputs": [],
   "source": [
    "import numpy as np\n",
    "import pandas as pd\n",
    "from sklearn import *"
   ]
  },
  {
   "cell_type": "code",
   "execution_count": null,
   "metadata": {
    "collapsed": true,
    "deletable": true,
    "editable": true
   },
   "outputs": [],
   "source": [
    "#Define gini metric used by Kaggle Competition\n",
    "def gini(y, pred):\n",
    "    fpr, tpr, thr = metrics.roc_curve(y, pred, pos_label=1)\n",
    "    g = 2 * metrics.auc(fpr, tpr) -1\n",
    "    return g\n",
    "\n",
    "def gini_xgb(pred, y):\n",
    "    y = y.get_label()\n",
    "    return 'gini', gini(y, pred)\n",
    "\n",
    "def gini_lgb(preds, dtrain):\n",
    "    y = list(dtrain.get_label())\n",
    "    score = gini(y, preds) / gini(y, y)\n",
    "    return 'gini', score, True"
   ]
  },
  {
   "cell_type": "code",
   "execution_count": null,
   "metadata": {
    "collapsed": false,
    "deletable": true,
    "editable": true
   },
   "outputs": [],
   "source": [
    "#Load traing, test sets (-1 stands for missing values)\n",
    "df_train = pd.read_csv('train.csv', na_values = -1)\n",
    "df_test = pd.read_csv('test.csv')"
   ]
  },
  {
   "cell_type": "code",
   "execution_count": null,
   "metadata": {
    "collapsed": false,
    "deletable": true,
    "editable": true
   },
   "outputs": [],
   "source": [
    "#Cleanup dataset and drop uncorrelated features\n",
    "col = [c for c in df_train.columns if c not in ['id','target']]\n",
    "col = [c for c in col if not c.startswith('ps_calc_')]\n",
    "dups = df_train[df_train.duplicated(subset=col, keep=False)]\n",
    "df_train = df_train[~df_train['id'].isin(dups['id'].values)]\n",
    "\n",
    "#Split target from dataset\n",
    "dfy_train = df_train['target']\n",
    "df_train = df_train[col]\n",
    "id_test = df_test['id'].values\n",
    "df_test = df_test[col]"
   ]
  },
  {
   "cell_type": "code",
   "execution_count": null,
   "metadata": {
    "collapsed": false,
    "deletable": true,
    "editable": true
   },
   "outputs": [],
   "source": [
    "#Statistical Encoding Features\n",
    "d_median = df_train.median(axis=0)\n",
    "d_mean = df_train.mean(axis=0)\n",
    "\n",
    "#-1 seems to work better than NaN for xgboost\n",
    "df_train = df_train.fillna(-1)\n"
   ]
  },
  {
   "cell_type": "code",
   "execution_count": null,
   "metadata": {
    "collapsed": false,
    "deletable": true,
    "editable": true
   },
   "outputs": [],
   "source": [
    "#Feature engineer onehot encoding and statistical encoding\n",
    "def t_df(df):\n",
    "    df = pd.DataFrame(df)\n",
    "    dcol = [c for c in df.columns]\n",
    "    \n",
    "    #Get 2 way interaction of 2 most important features\n",
    "    df['ps_car_13*ps_reg_03'] = df['ps_car_13'] * df['ps_reg_03']\n",
    "    #Count missing entries\n",
    "    df['missing'] = np.sum((df[dcol]==-1).values, axis=1)  \n",
    "    for c in dcol:\n",
    "        if '_bin' not in c:\n",
    "            df[c+str('_median_range')] = (df[c].values > d_median[c]) \n",
    "            df[c+str('_mean_range')] = (df[c].values > d_mean[c])\n",
    "        \n",
    "        #Onehot encode variables\n",
    "        if len(df[c].unique())>2 and len(df[c].unique()) < 7:\n",
    "            df[c] = df[c].astype(np.int)\n",
    "            df[c] = df[c].astype('category')\n",
    "    df = pd.get_dummies(df)\n",
    "    return df"
   ]
  },
  {
   "cell_type": "code",
   "execution_count": null,
   "metadata": {
    "collapsed": false,
    "deletable": true,
    "editable": true
   },
   "outputs": [],
   "source": [
    "#Transform datasets\n",
    "df_train = t_df(df_train)\n",
    "df_test = t_df(df_test)"
   ]
  }
 ],
 "metadata": {
  "kernelspec": {
   "display_name": "Python 3",
   "language": "python",
   "name": "python3"
  },
  "language_info": {
   "codemirror_mode": {
    "name": "ipython",
    "version": 3
   },
   "file_extension": ".py",
   "mimetype": "text/x-python",
   "name": "python",
   "nbconvert_exporter": "python",
   "pygments_lexer": "ipython3",
   "version": "3.5.3"
  }
 },
 "nbformat": 4,
 "nbformat_minor": 2
}
